{
 "cells": [
  {
   "cell_type": "code",
   "execution_count": 2,
   "id": "da844e21-cbd2-46c2-ad90-2ac9cc9dc9b9",
   "metadata": {},
   "outputs": [],
   "source": [
    "import pandas as pd\n",
    "import requests\n",
    "from bs4 import BeautifulSoup\n",
    "import sqlalchemy"
   ]
  },
  {
   "cell_type": "markdown",
   "id": "a649fef7-2573-421f-b990-3d0ac71e540f",
   "metadata": {},
   "source": [
    "## Berlin"
   ]
  },
  {
   "cell_type": "code",
   "execution_count": 4,
   "id": "cc1a6585-6683-4b37-bab2-d282f9839f22",
   "metadata": {},
   "outputs": [],
   "source": [
    "# get the berlin_soup\n",
    "url = 'https://www.wikipedia.org/wiki/Berlin'\n",
    "response = requests.get(url)\n",
    "berlin_soup = BeautifulSoup(response.content, 'html.parser')"
   ]
  },
  {
   "cell_type": "code",
   "execution_count": 6,
   "id": "417ab483-3bde-4550-90a0-013c6553b9ed",
   "metadata": {},
   "outputs": [
    {
     "data": {
      "text/plain": [
       "'\\xa0Germany'"
      ]
     },
     "execution_count": 6,
     "metadata": {},
     "output_type": "execute_result"
    }
   ],
   "source": [
    "berlin_soup.find(class_=\"infobox-data\").get_text()"
   ]
  },
  {
   "cell_type": "code",
   "execution_count": 8,
   "id": "b638ca92-a107-410e-8bc0-e3644b89cdf8",
   "metadata": {},
   "outputs": [
    {
     "data": {
      "text/plain": [
       "'\\xa0Germany'"
      ]
     },
     "execution_count": 8,
     "metadata": {},
     "output_type": "execute_result"
    }
   ],
   "source": [
    "berlin_country = berlin_soup.find(class_=\"infobox-data\").get_text()\n",
    "berlin_country"
   ]
  },
  {
   "cell_type": "code",
   "execution_count": 10,
   "id": "00601878-e2e5-49af-974c-fb183f34f8ca",
   "metadata": {},
   "outputs": [
    {
     "data": {
      "text/plain": [
       "<span class=\"latitude\">52°31′12″N</span>"
      ]
     },
     "execution_count": 10,
     "metadata": {},
     "output_type": "execute_result"
    }
   ],
   "source": [
    "berlin_soup.find(class_=\"latitude\")"
   ]
  },
  {
   "cell_type": "code",
   "execution_count": 12,
   "id": "55b1099e-7b27-4d1d-8e15-fe54f63c0e40",
   "metadata": {},
   "outputs": [
    {
     "data": {
      "text/plain": [
       "'52°31′12″N'"
      ]
     },
     "execution_count": 12,
     "metadata": {},
     "output_type": "execute_result"
    }
   ],
   "source": [
    "berlin_latitude = berlin_soup.find(class_=\"latitude\").get_text()\n",
    "berlin_latitude"
   ]
  },
  {
   "cell_type": "code",
   "execution_count": 14,
   "id": "0e3cda84-c546-416f-85e8-0798145d3cdc",
   "metadata": {},
   "outputs": [
    {
     "data": {
      "text/plain": [
       "'13°24′18″E'"
      ]
     },
     "execution_count": 14,
     "metadata": {},
     "output_type": "execute_result"
    }
   ],
   "source": [
    "berlin_longitude = berlin_soup.find(class_=\"longitude\").get_text()\n",
    "berlin_longitude"
   ]
  },
  {
   "cell_type": "markdown",
   "id": "aec32bec-7d26-4491-a85e-da52d6206882",
   "metadata": {},
   "source": [
    "## Hamburg"
   ]
  },
  {
   "cell_type": "code",
   "execution_count": 16,
   "id": "0f1db573-6cb5-4ecc-a810-4a47baa4fac4",
   "metadata": {},
   "outputs": [
    {
     "data": {
      "text/plain": [
       "('Germany', '53°33′N', '10°00′E')"
      ]
     },
     "execution_count": 16,
     "metadata": {},
     "output_type": "execute_result"
    }
   ],
   "source": [
    "url = 'https://www.wikipedia.org/wiki/Hamburg'\n",
    "response = requests.get(url)\n",
    "hamburg_soup = BeautifulSoup(response.content, 'html.parser')\n",
    "\n",
    "hamburg_country = hamburg_soup.find(class_=\"infobox-data\").get_text()\n",
    "hamburg_latitude = hamburg_soup.find(class_=\"latitude\").get_text()\n",
    "hamburg_longitude = hamburg_soup.find(class_=\"longitude\").get_text()\n",
    "\n",
    "hamburg_country, hamburg_latitude, hamburg_longitude"
   ]
  },
  {
   "cell_type": "markdown",
   "id": "b70e7384-d51c-49a8-b89e-d984d5544c23",
   "metadata": {},
   "source": [
    "## Munich"
   ]
  },
  {
   "cell_type": "code",
   "execution_count": 18,
   "id": "30adc390-277e-4d8a-a0e4-8c5db001cb84",
   "metadata": {},
   "outputs": [
    {
     "data": {
      "text/plain": [
       "('Germany', '48°08′15″N', '11°34′30″E')"
      ]
     },
     "execution_count": 18,
     "metadata": {},
     "output_type": "execute_result"
    }
   ],
   "source": [
    "url = 'https://www.wikipedia.org/wiki/Munich'\n",
    "response = requests.get(url)\n",
    "munich_soup = BeautifulSoup(response.content, 'html.parser')\n",
    "\n",
    "munich_country = munich_soup.find(class_=\"infobox-data\").get_text()\n",
    "munich_latitude = munich_soup.find(class_=\"latitude\").get_text()\n",
    "munich_longitude = munich_soup.find(class_=\"longitude\").get_text()\n",
    "\n",
    "munich_country, munich_latitude, munich_longitude\n"
   ]
  },
  {
   "cell_type": "markdown",
   "id": "95ea8fe7-4aa9-40e6-b43a-811642323578",
   "metadata": {},
   "source": [
    "## Making a loop"
   ]
  },
  {
   "cell_type": "code",
   "execution_count": 20,
   "id": "df88b5ec-55ec-415a-a96c-ecbbc4ba647c",
   "metadata": {},
   "outputs": [],
   "source": [
    "cities = [\"Berlin\", \"Hamburg\", \"Munich\"]\n",
    "\n",
    "countries = []\n",
    "latitudes = []\n",
    "longitudes = []\n",
    "\n",
    "for city in cities:\n",
    "  # get the soup for the city\n",
    "  url = f\"https://www.wikipedia.org/wiki/{city}\"\n",
    "  response = requests.get(url)\n",
    "  city_soup = BeautifulSoup(response.content, 'html.parser')\n",
    "\n",
    "  # extract the data\n",
    "  city_country = city_soup.find(class_=\"infobox-data\").get_text(strip=True) #Removing the unicode from our results (if they exist)\n",
    "  city_latitude = city_soup.find(class_=\"latitude\").get_text()\n",
    "  city_longitude = city_soup.find(class_=\"longitude\").get_text()\n",
    "\n",
    "  # append data to a list\n",
    "  countries.append(city_country)\n",
    "  latitudes.append(city_latitude)\n",
    "  longitudes.append(city_longitude)"
   ]
  },
  {
   "cell_type": "code",
   "execution_count": 22,
   "id": "d4f25819-f6d4-4279-82be-b18921342697",
   "metadata": {},
   "outputs": [
    {
     "name": "stdout",
     "output_type": "stream",
     "text": [
      "The cities are in the following countries: ['Germany', 'Germany', 'Germany']\n",
      "The cities have the following latitudes: ['52°31′12″N', '53°33′N', '48°08′15″N']\n",
      "The cities have the following longitudes: ['13°24′18″E', '10°00′E', '11°34′30″E']\n"
     ]
    }
   ],
   "source": [
    "print(f\"The cities are in the following countries: {countries}\")\n",
    "print(f\"The cities have the following latitudes: {latitudes}\")\n",
    "print(f\"The cities have the following longitudes: {longitudes}\")"
   ]
  },
  {
   "cell_type": "markdown",
   "id": "31f44247-383c-4754-aaae-5ba8e7ebd22d",
   "metadata": {},
   "source": [
    "### Creating a Dataframe"
   ]
  },
  {
   "cell_type": "code",
   "execution_count": 24,
   "id": "901213a3-a0dd-4dd4-8118-a3d9bfa44c83",
   "metadata": {},
   "outputs": [
    {
     "data": {
      "text/html": [
       "<div>\n",
       "<style scoped>\n",
       "    .dataframe tbody tr th:only-of-type {\n",
       "        vertical-align: middle;\n",
       "    }\n",
       "\n",
       "    .dataframe tbody tr th {\n",
       "        vertical-align: top;\n",
       "    }\n",
       "\n",
       "    .dataframe thead th {\n",
       "        text-align: right;\n",
       "    }\n",
       "</style>\n",
       "<table border=\"1\" class=\"dataframe\">\n",
       "  <thead>\n",
       "    <tr style=\"text-align: right;\">\n",
       "      <th></th>\n",
       "      <th>City</th>\n",
       "      <th>Country</th>\n",
       "      <th>Latitude</th>\n",
       "      <th>Longitude</th>\n",
       "    </tr>\n",
       "  </thead>\n",
       "  <tbody>\n",
       "    <tr>\n",
       "      <th>0</th>\n",
       "      <td>Berlin</td>\n",
       "      <td>Germany</td>\n",
       "      <td>52°31′12″N</td>\n",
       "      <td>13°24′18″E</td>\n",
       "    </tr>\n",
       "    <tr>\n",
       "      <th>1</th>\n",
       "      <td>Hamburg</td>\n",
       "      <td>Germany</td>\n",
       "      <td>53°33′N</td>\n",
       "      <td>10°00′E</td>\n",
       "    </tr>\n",
       "    <tr>\n",
       "      <th>2</th>\n",
       "      <td>Munich</td>\n",
       "      <td>Germany</td>\n",
       "      <td>48°08′15″N</td>\n",
       "      <td>11°34′30″E</td>\n",
       "    </tr>\n",
       "  </tbody>\n",
       "</table>\n",
       "</div>"
      ],
      "text/plain": [
       "      City  Country    Latitude   Longitude\n",
       "0   Berlin  Germany  52°31′12″N  13°24′18″E\n",
       "1  Hamburg  Germany     53°33′N     10°00′E\n",
       "2   Munich  Germany  48°08′15″N  11°34′30″E"
      ]
     },
     "execution_count": 24,
     "metadata": {},
     "output_type": "execute_result"
    }
   ],
   "source": [
    "cities_df = pd.DataFrame({\"City\": cities,\n",
    "                          \"Country\": countries,\n",
    "                          \"Latitude\": latitudes,\n",
    "                          \"Longitude\": longitudes})\n",
    "\n",
    "cities_df"
   ]
  },
  {
   "cell_type": "code",
   "execution_count": 26,
   "id": "0c220132-e72c-4e2a-a3ff-da24daaabb01",
   "metadata": {},
   "outputs": [
    {
     "data": {
      "text/html": [
       "<div>\n",
       "<style scoped>\n",
       "    .dataframe tbody tr th:only-of-type {\n",
       "        vertical-align: middle;\n",
       "    }\n",
       "\n",
       "    .dataframe tbody tr th {\n",
       "        vertical-align: top;\n",
       "    }\n",
       "\n",
       "    .dataframe thead th {\n",
       "        text-align: right;\n",
       "    }\n",
       "</style>\n",
       "<table border=\"1\" class=\"dataframe\">\n",
       "  <thead>\n",
       "    <tr style=\"text-align: right;\">\n",
       "      <th></th>\n",
       "      <th>City</th>\n",
       "      <th>Country</th>\n",
       "      <th>Latitude</th>\n",
       "      <th>Longitude</th>\n",
       "    </tr>\n",
       "  </thead>\n",
       "  <tbody>\n",
       "    <tr>\n",
       "      <th>0</th>\n",
       "      <td>Berlin</td>\n",
       "      <td>Germany</td>\n",
       "      <td>52°31′12″N</td>\n",
       "      <td>13°24′18″E</td>\n",
       "    </tr>\n",
       "    <tr>\n",
       "      <th>1</th>\n",
       "      <td>Hamburg</td>\n",
       "      <td>Germany</td>\n",
       "      <td>53°33′N</td>\n",
       "      <td>10°00′E</td>\n",
       "    </tr>\n",
       "    <tr>\n",
       "      <th>2</th>\n",
       "      <td>Munich</td>\n",
       "      <td>Germany</td>\n",
       "      <td>48°08′15″N</td>\n",
       "      <td>11°34′30″E</td>\n",
       "    </tr>\n",
       "  </tbody>\n",
       "</table>\n",
       "</div>"
      ],
      "text/plain": [
       "      City  Country    Latitude   Longitude\n",
       "0   Berlin  Germany  52°31′12″N  13°24′18″E\n",
       "1  Hamburg  Germany     53°33′N     10°00′E\n",
       "2   Munich  Germany  48°08′15″N  11°34′30″E"
      ]
     },
     "execution_count": 26,
     "metadata": {},
     "output_type": "execute_result"
    }
   ],
   "source": [
    "cities = [\"Berlin\", \"Hamburg\", \"Munich\"]\n",
    "\n",
    "# create one single list to keep track of all values (instead of having separate lists)\n",
    "city_data = []\n",
    "\n",
    "for city in cities:\n",
    "    url = f\"https://www.wikipedia.org/wiki/{city}\"\n",
    "    response = requests.get(url)\n",
    "    city_soup = BeautifulSoup(response.content, 'html.parser')\n",
    "\n",
    "    # extract the relevant information\n",
    "    country = city_soup.find(class_=\"infobox-data\").get_text(strip=True) #Removing the unicode from our results (if they exist)\n",
    "    city_latitude = city_soup.find(class_=\"latitude\").get_text()\n",
    "    city_longitude = city_soup.find(class_=\"longitude\").get_text()\n",
    "\n",
    "    # for each city we append a dictionary of values to the list\n",
    "    city_data.append({\"City\": city,\n",
    "                     \"Country\": country,\n",
    "                     \"Latitude\": city_latitude,\n",
    "                     \"Longitude\": city_longitude\n",
    "                    })\n",
    "\n",
    "cities_df = pd.DataFrame(city_data)\n",
    "cities_df"
   ]
  },
  {
   "cell_type": "markdown",
   "id": "3516156e-db14-4574-a8a9-9edd2dbfff6d",
   "metadata": {},
   "source": [
    "### Changing the latitude and longitude to decimal format"
   ]
  },
  {
   "cell_type": "code",
   "execution_count": 28,
   "id": "d0f2147a-fd14-407c-842b-391a194148a8",
   "metadata": {},
   "outputs": [
    {
     "name": "stdout",
     "output_type": "stream",
     "text": [
      "Requirement already satisfied: lat-lon-parser in /opt/anaconda3/lib/python3.12/site-packages (1.3.0)\n"
     ]
    }
   ],
   "source": [
    "!pip install lat-lon-parser"
   ]
  },
  {
   "cell_type": "code",
   "execution_count": 30,
   "id": "dc027557-e332-4451-9841-51082e52da78",
   "metadata": {},
   "outputs": [
    {
     "data": {
      "text/plain": [
       "52.519999999999996"
      ]
     },
     "execution_count": 30,
     "metadata": {},
     "output_type": "execute_result"
    }
   ],
   "source": [
    "from lat_lon_parser import parse\n",
    "\n",
    "parse(berlin_latitude)"
   ]
  },
  {
   "cell_type": "markdown",
   "id": "6f4922a0-4238-4cf1-b29a-09fec56a36b7",
   "metadata": {},
   "source": [
    "### Wrapping the code in a function"
   ]
  },
  {
   "cell_type": "code",
   "execution_count": 32,
   "id": "dd247b16-1ff6-4db5-a57a-0f91a30f37a7",
   "metadata": {},
   "outputs": [],
   "source": [
    "import pandas as pd\n",
    "import requests\n",
    "from bs4 import BeautifulSoup\n",
    "from lat_lon_parser import parse    # for decimal coordinates\n",
    "\n",
    "\n",
    "def cities_dataframe(cities):\n",
    "\n",
    "  city_data = []\n",
    "\n",
    "  for city in cities:\n",
    "    url = f\"https://www.wikipedia.org/wiki/{city}\"\n",
    "    response = requests.get(url)\n",
    "    city_soup = BeautifulSoup(response.content, 'html.parser')\n",
    "\n",
    "    # extract the relevant information\n",
    "    city_latitude = city_soup.find(class_=\"latitude\").get_text()\n",
    "    city_longitude = city_soup.find(class_=\"longitude\").get_text()\n",
    "    country = city_soup.find(class_=\"infobox-data\").get_text(strip=True) #Removing the unicode from our results (if they exist)\n",
    "\n",
    "    # keep track of data per city\n",
    "    city_data.append({\"City\": city,\n",
    "                    \"Country\": country,\n",
    "                    \"Latitude\": parse(city_latitude), # latitude in decimal format\n",
    "                    \"Longitude\": parse(city_longitude), # longitude in decimal format\n",
    "                    })\n",
    "\n",
    "  return pd.DataFrame(city_data)"
   ]
  },
  {
   "cell_type": "code",
   "execution_count": 34,
   "id": "f77e05ab-a17e-414e-a527-1b5c27e30f60",
   "metadata": {},
   "outputs": [
    {
     "data": {
      "text/html": [
       "<div>\n",
       "<style scoped>\n",
       "    .dataframe tbody tr th:only-of-type {\n",
       "        vertical-align: middle;\n",
       "    }\n",
       "\n",
       "    .dataframe tbody tr th {\n",
       "        vertical-align: top;\n",
       "    }\n",
       "\n",
       "    .dataframe thead th {\n",
       "        text-align: right;\n",
       "    }\n",
       "</style>\n",
       "<table border=\"1\" class=\"dataframe\">\n",
       "  <thead>\n",
       "    <tr style=\"text-align: right;\">\n",
       "      <th></th>\n",
       "      <th>City</th>\n",
       "      <th>Country</th>\n",
       "      <th>Latitude</th>\n",
       "      <th>Longitude</th>\n",
       "    </tr>\n",
       "  </thead>\n",
       "  <tbody>\n",
       "    <tr>\n",
       "      <th>0</th>\n",
       "      <td>Berlin</td>\n",
       "      <td>Germany</td>\n",
       "      <td>52.5200</td>\n",
       "      <td>13.405</td>\n",
       "    </tr>\n",
       "    <tr>\n",
       "      <th>1</th>\n",
       "      <td>Hamburg</td>\n",
       "      <td>Germany</td>\n",
       "      <td>53.5500</td>\n",
       "      <td>10.000</td>\n",
       "    </tr>\n",
       "    <tr>\n",
       "      <th>2</th>\n",
       "      <td>Munich</td>\n",
       "      <td>Germany</td>\n",
       "      <td>48.1375</td>\n",
       "      <td>11.575</td>\n",
       "    </tr>\n",
       "  </tbody>\n",
       "</table>\n",
       "</div>"
      ],
      "text/plain": [
       "      City  Country  Latitude  Longitude\n",
       "0   Berlin  Germany   52.5200     13.405\n",
       "1  Hamburg  Germany   53.5500     10.000\n",
       "2   Munich  Germany   48.1375     11.575"
      ]
     },
     "execution_count": 34,
     "metadata": {},
     "output_type": "execute_result"
    }
   ],
   "source": [
    "# call the function\n",
    "list_of_cities = [\"Berlin\", \"Hamburg\", \"Munich\"]\n",
    "\n",
    "cities_df = cities_dataframe(list_of_cities)\n",
    "cities_df"
   ]
  },
  {
   "cell_type": "code",
   "execution_count": 36,
   "id": "4d5f09a7-41e3-49ea-901a-065c66c62f2c",
   "metadata": {},
   "outputs": [],
   "source": [
    "new_cities = [\"Cologne\", \"Amsterdam\", \"Paris\"]\n",
    "new_cities_df = cities_dataframe(new_cities)"
   ]
  },
  {
   "cell_type": "code",
   "execution_count": 37,
   "id": "e8b4ffbc-7e0e-4c40-b415-728952cf3477",
   "metadata": {},
   "outputs": [
    {
     "data": {
      "text/html": [
       "<div>\n",
       "<style scoped>\n",
       "    .dataframe tbody tr th:only-of-type {\n",
       "        vertical-align: middle;\n",
       "    }\n",
       "\n",
       "    .dataframe tbody tr th {\n",
       "        vertical-align: top;\n",
       "    }\n",
       "\n",
       "    .dataframe thead th {\n",
       "        text-align: right;\n",
       "    }\n",
       "</style>\n",
       "<table border=\"1\" class=\"dataframe\">\n",
       "  <thead>\n",
       "    <tr style=\"text-align: right;\">\n",
       "      <th></th>\n",
       "      <th>City</th>\n",
       "      <th>Country</th>\n",
       "      <th>Latitude</th>\n",
       "      <th>Longitude</th>\n",
       "    </tr>\n",
       "  </thead>\n",
       "  <tbody>\n",
       "    <tr>\n",
       "      <th>0</th>\n",
       "      <td>Berlin</td>\n",
       "      <td>Germany</td>\n",
       "      <td>52.5200</td>\n",
       "      <td>13.405</td>\n",
       "    </tr>\n",
       "    <tr>\n",
       "      <th>1</th>\n",
       "      <td>Hamburg</td>\n",
       "      <td>Germany</td>\n",
       "      <td>53.5500</td>\n",
       "      <td>10.000</td>\n",
       "    </tr>\n",
       "    <tr>\n",
       "      <th>2</th>\n",
       "      <td>Munich</td>\n",
       "      <td>Germany</td>\n",
       "      <td>48.1375</td>\n",
       "      <td>11.575</td>\n",
       "    </tr>\n",
       "  </tbody>\n",
       "</table>\n",
       "</div>"
      ],
      "text/plain": [
       "      City  Country  Latitude  Longitude\n",
       "0   Berlin  Germany   52.5200     13.405\n",
       "1  Hamburg  Germany   53.5500     10.000\n",
       "2   Munich  Germany   48.1375     11.575"
      ]
     },
     "execution_count": 37,
     "metadata": {},
     "output_type": "execute_result"
    }
   ],
   "source": [
    "cities_df"
   ]
  },
  {
   "cell_type": "code",
   "execution_count": 40,
   "id": "f3856885-05ba-46b4-9956-5c800a3d27d2",
   "metadata": {},
   "outputs": [
    {
     "data": {
      "text/html": [
       "<div>\n",
       "<style scoped>\n",
       "    .dataframe tbody tr th:only-of-type {\n",
       "        vertical-align: middle;\n",
       "    }\n",
       "\n",
       "    .dataframe tbody tr th {\n",
       "        vertical-align: top;\n",
       "    }\n",
       "\n",
       "    .dataframe thead th {\n",
       "        text-align: right;\n",
       "    }\n",
       "</style>\n",
       "<table border=\"1\" class=\"dataframe\">\n",
       "  <thead>\n",
       "    <tr style=\"text-align: right;\">\n",
       "      <th></th>\n",
       "      <th>City</th>\n",
       "      <th>Country</th>\n",
       "      <th>Latitude</th>\n",
       "      <th>Longitude</th>\n",
       "    </tr>\n",
       "  </thead>\n",
       "  <tbody>\n",
       "    <tr>\n",
       "      <th>0</th>\n",
       "      <td>Cologne</td>\n",
       "      <td>Germany</td>\n",
       "      <td>50.936389</td>\n",
       "      <td>6.952778</td>\n",
       "    </tr>\n",
       "    <tr>\n",
       "      <th>1</th>\n",
       "      <td>Amsterdam</td>\n",
       "      <td>Netherlands</td>\n",
       "      <td>52.372778</td>\n",
       "      <td>4.893611</td>\n",
       "    </tr>\n",
       "    <tr>\n",
       "      <th>2</th>\n",
       "      <td>Paris</td>\n",
       "      <td>France</td>\n",
       "      <td>48.856667</td>\n",
       "      <td>2.352222</td>\n",
       "    </tr>\n",
       "  </tbody>\n",
       "</table>\n",
       "</div>"
      ],
      "text/plain": [
       "        City      Country   Latitude  Longitude\n",
       "0    Cologne      Germany  50.936389   6.952778\n",
       "1  Amsterdam  Netherlands  52.372778   4.893611\n",
       "2      Paris       France  48.856667   2.352222"
      ]
     },
     "execution_count": 40,
     "metadata": {},
     "output_type": "execute_result"
    }
   ],
   "source": [
    "new_cities_df"
   ]
  },
  {
   "cell_type": "code",
   "execution_count": 42,
   "id": "4da1dd0c-2a65-4eba-ae0c-35fda92e8486",
   "metadata": {},
   "outputs": [],
   "source": [
    "combined_cities_df = pd.concat([cities_df,new_cities_df],ignore_index = True)"
   ]
  },
  {
   "cell_type": "code",
   "execution_count": 44,
   "id": "cd1715b1-645a-4f6f-861d-e18ccabd9eef",
   "metadata": {},
   "outputs": [],
   "source": [
    "cities_df = combined_cities_df"
   ]
  },
  {
   "cell_type": "code",
   "execution_count": 46,
   "id": "bd7d6690-0771-418a-a144-92942196980f",
   "metadata": {
    "scrolled": true
   },
   "outputs": [
    {
     "data": {
      "text/html": [
       "<div>\n",
       "<style scoped>\n",
       "    .dataframe tbody tr th:only-of-type {\n",
       "        vertical-align: middle;\n",
       "    }\n",
       "\n",
       "    .dataframe tbody tr th {\n",
       "        vertical-align: top;\n",
       "    }\n",
       "\n",
       "    .dataframe thead th {\n",
       "        text-align: right;\n",
       "    }\n",
       "</style>\n",
       "<table border=\"1\" class=\"dataframe\">\n",
       "  <thead>\n",
       "    <tr style=\"text-align: right;\">\n",
       "      <th></th>\n",
       "      <th>City</th>\n",
       "      <th>Country</th>\n",
       "      <th>Latitude</th>\n",
       "      <th>Longitude</th>\n",
       "    </tr>\n",
       "  </thead>\n",
       "  <tbody>\n",
       "    <tr>\n",
       "      <th>0</th>\n",
       "      <td>Berlin</td>\n",
       "      <td>Germany</td>\n",
       "      <td>52.520000</td>\n",
       "      <td>13.405000</td>\n",
       "    </tr>\n",
       "    <tr>\n",
       "      <th>1</th>\n",
       "      <td>Hamburg</td>\n",
       "      <td>Germany</td>\n",
       "      <td>53.550000</td>\n",
       "      <td>10.000000</td>\n",
       "    </tr>\n",
       "    <tr>\n",
       "      <th>2</th>\n",
       "      <td>Munich</td>\n",
       "      <td>Germany</td>\n",
       "      <td>48.137500</td>\n",
       "      <td>11.575000</td>\n",
       "    </tr>\n",
       "    <tr>\n",
       "      <th>3</th>\n",
       "      <td>Cologne</td>\n",
       "      <td>Germany</td>\n",
       "      <td>50.936389</td>\n",
       "      <td>6.952778</td>\n",
       "    </tr>\n",
       "    <tr>\n",
       "      <th>4</th>\n",
       "      <td>Amsterdam</td>\n",
       "      <td>Netherlands</td>\n",
       "      <td>52.372778</td>\n",
       "      <td>4.893611</td>\n",
       "    </tr>\n",
       "    <tr>\n",
       "      <th>5</th>\n",
       "      <td>Paris</td>\n",
       "      <td>France</td>\n",
       "      <td>48.856667</td>\n",
       "      <td>2.352222</td>\n",
       "    </tr>\n",
       "  </tbody>\n",
       "</table>\n",
       "</div>"
      ],
      "text/plain": [
       "        City      Country   Latitude  Longitude\n",
       "0     Berlin      Germany  52.520000  13.405000\n",
       "1    Hamburg      Germany  53.550000  10.000000\n",
       "2     Munich      Germany  48.137500  11.575000\n",
       "3    Cologne      Germany  50.936389   6.952778\n",
       "4  Amsterdam  Netherlands  52.372778   4.893611\n",
       "5      Paris       France  48.856667   2.352222"
      ]
     },
     "execution_count": 46,
     "metadata": {},
     "output_type": "execute_result"
    }
   ],
   "source": [
    "cities_df"
   ]
  },
  {
   "cell_type": "markdown",
   "id": "eac170b9-fded-41ad-9e98-b3784cf1fff9",
   "metadata": {},
   "source": [
    "## Scraping population"
   ]
  },
  {
   "cell_type": "code",
   "execution_count": 63,
   "id": "c1ee020f-7755-4898-af28-8f1870e494b2",
   "metadata": {},
   "outputs": [
    {
     "data": {
      "text/plain": [
       "<div class=\"ib-settlement-fn\"><span class=\"nowrap\"> </span>(2023-12-31)<sup class=\"reference\" id=\"cite_ref-4\"><a href=\"#cite_note-4\"><span class=\"cite-bracket\">[</span>4<span class=\"cite-bracket\">]</span></a></sup></div>"
      ]
     },
     "execution_count": 63,
     "metadata": {},
     "output_type": "execute_result"
    }
   ],
   "source": [
    "berlin_soup.find(string=\"Population\").find_next()"
   ]
  },
  {
   "cell_type": "code",
   "execution_count": 65,
   "id": "a97238b0-c2cf-4c1e-8518-f14ef57f55d2",
   "metadata": {},
   "outputs": [
    {
     "data": {
      "text/plain": [
       "'3,878,100'"
      ]
     },
     "execution_count": 65,
     "metadata": {},
     "output_type": "execute_result"
    }
   ],
   "source": [
    "berlin_population = berlin_soup.find(string=\"Population\").find_next(\"td\").get_text()\n",
    "berlin_population"
   ]
  },
  {
   "cell_type": "code",
   "execution_count": 67,
   "id": "32087422-d55a-4741-b3bb-cda6883b3a84",
   "metadata": {},
   "outputs": [
    {
     "data": {
      "text/plain": [
       "'3878100'"
      ]
     },
     "execution_count": 67,
     "metadata": {},
     "output_type": "execute_result"
    }
   ],
   "source": [
    "berlin_population_clean = berlin_population.replace(\",\", \"\")\n",
    "berlin_population_clean"
   ]
  },
  {
   "cell_type": "code",
   "execution_count": 69,
   "id": "1dbe5f60-b335-4e33-b80e-bd3dfde1b491",
   "metadata": {},
   "outputs": [
    {
     "data": {
      "text/plain": [
       "3878100"
      ]
     },
     "execution_count": 69,
     "metadata": {},
     "output_type": "execute_result"
    }
   ],
   "source": [
    "berlin_population_clean = int(berlin_population_clean)\n",
    "berlin_population_clean"
   ]
  },
  {
   "cell_type": "markdown",
   "id": "21367ec7-7acf-4ed9-bfac-76599d749f9e",
   "metadata": {},
   "source": [
    "### Making a loop"
   ]
  },
  {
   "cell_type": "code",
   "execution_count": 106,
   "id": "0b5cc14f-97f9-4c9b-a598-fd3cdfef2fc2",
   "metadata": {},
   "outputs": [
    {
     "data": {
      "text/html": [
       "<div>\n",
       "<style scoped>\n",
       "    .dataframe tbody tr th:only-of-type {\n",
       "        vertical-align: middle;\n",
       "    }\n",
       "\n",
       "    .dataframe tbody tr th {\n",
       "        vertical-align: top;\n",
       "    }\n",
       "\n",
       "    .dataframe thead th {\n",
       "        text-align: right;\n",
       "    }\n",
       "</style>\n",
       "<table border=\"1\" class=\"dataframe\">\n",
       "  <thead>\n",
       "    <tr style=\"text-align: right;\">\n",
       "      <th></th>\n",
       "      <th>City</th>\n",
       "      <th>Population</th>\n",
       "      <th>Population_Timestamp</th>\n",
       "    </tr>\n",
       "  </thead>\n",
       "  <tbody>\n",
       "    <tr>\n",
       "      <th>0</th>\n",
       "      <td>Berlin</td>\n",
       "      <td>3878100</td>\n",
       "      <td>2024.10.09</td>\n",
       "    </tr>\n",
       "    <tr>\n",
       "      <th>1</th>\n",
       "      <td>Hamburg</td>\n",
       "      <td>1964021</td>\n",
       "      <td>2024.10.09</td>\n",
       "    </tr>\n",
       "    <tr>\n",
       "      <th>2</th>\n",
       "      <td>Munich</td>\n",
       "      <td>1510378</td>\n",
       "      <td>2024.10.09</td>\n",
       "    </tr>\n",
       "    <tr>\n",
       "      <th>3</th>\n",
       "      <td>Cologne</td>\n",
       "      <td>1087353</td>\n",
       "      <td>2024.10.09</td>\n",
       "    </tr>\n",
       "    <tr>\n",
       "      <th>4</th>\n",
       "      <td>Amsterdam</td>\n",
       "      <td>921402</td>\n",
       "      <td>2024.10.09</td>\n",
       "    </tr>\n",
       "    <tr>\n",
       "      <th>5</th>\n",
       "      <td>Paris</td>\n",
       "      <td>2102650</td>\n",
       "      <td>2024.10.09</td>\n",
       "    </tr>\n",
       "  </tbody>\n",
       "</table>\n",
       "</div>"
      ],
      "text/plain": [
       "        City  Population Population_Timestamp\n",
       "0     Berlin     3878100           2024.10.09\n",
       "1    Hamburg     1964021           2024.10.09\n",
       "2     Munich     1510378           2024.10.09\n",
       "3    Cologne     1087353           2024.10.09\n",
       "4  Amsterdam      921402           2024.10.09\n",
       "5      Paris     2102650           2024.10.09"
      ]
     },
     "execution_count": 106,
     "metadata": {},
     "output_type": "execute_result"
    }
   ],
   "source": [
    "from datetime import datetime # to get today's date\n",
    "\n",
    "cities = [\"Berlin\", \"Hamburg\", \"Munich\",\"Cologne\", \"Amsterdam\", \"Paris\"]\n",
    "\n",
    "# create one single list to keep track of all values (instead of having separate lists)\n",
    "population_data = []\n",
    "\n",
    "for city in cities:\n",
    "    url = f\"https://www.wikipedia.org/wiki/{city}\"\n",
    "    response = requests.get(url)\n",
    "    city_soup = BeautifulSoup(response.content, 'html.parser')\n",
    "\n",
    "    # extract the relevant information\n",
    "    city_population = city_soup.find(string=\"Population\").find_next(\"td\").get_text()\n",
    "    city_population_clean = city_population.replace(\",\", \"\")\n",
    "    today = datetime.today().strftime(\"%Y.%d.%m\")\n",
    "\n",
    "    # for each city we append a dictionary of values to the list\n",
    "    population_data.append({\"City\": city,\n",
    "                     \"Population\": int(city_population_clean),\n",
    "                     \"Population_Timestamp\": today\n",
    "                    })\n",
    "\n",
    "population_data = pd.DataFrame(population_data)\n",
    "population_data"
   ]
  },
  {
   "cell_type": "markdown",
   "id": "f6e3ed7e-0644-40ab-b2d8-7d25f8d335ed",
   "metadata": {},
   "source": [
    "## Wrapping into Function"
   ]
  },
  {
   "cell_type": "code",
   "execution_count": 108,
   "id": "7c2de1f7-add8-45f4-b566-47cfa7870480",
   "metadata": {},
   "outputs": [],
   "source": [
    "import pandas as pd\n",
    "import requests\n",
    "from bs4 import BeautifulSoup\n",
    "from datetime import datetime # to get today's date\n",
    "\n",
    "\n",
    "def populations_dataframe(cities):\n",
    "\n",
    "    population_data = []\n",
    "\n",
    "    for city in cities:\n",
    "        url = f\"https://www.wikipedia.org/wiki/{city}\"\n",
    "        response = requests.get(url)\n",
    "        city_soup = BeautifulSoup(response.content, 'html.parser')\n",
    "\n",
    "        # extract the relevant information\n",
    "        city_population = city_soup.find(string=\"Population\").find_next(\"td\").get_text()\n",
    "        city_population_clean = int(city_population.replace(\",\", \"\"))\n",
    "        today = datetime.today().strftime(\"%Y-%m-%d\")\n",
    "\n",
    "        # keep track of data per city\n",
    "        population_data.append({\"City\": city,\n",
    "                        \"Population\": city_population_clean,\n",
    "                        \"Timestamp_Population\": today\n",
    "                        })\n",
    "\n",
    "    return pd.DataFrame(population_data)"
   ]
  },
  {
   "cell_type": "code",
   "execution_count": 110,
   "id": "6a6a257a-4773-4a92-84cf-5112be8f1cd5",
   "metadata": {
    "scrolled": true
   },
   "outputs": [
    {
     "data": {
      "text/html": [
       "<div>\n",
       "<style scoped>\n",
       "    .dataframe tbody tr th:only-of-type {\n",
       "        vertical-align: middle;\n",
       "    }\n",
       "\n",
       "    .dataframe tbody tr th {\n",
       "        vertical-align: top;\n",
       "    }\n",
       "\n",
       "    .dataframe thead th {\n",
       "        text-align: right;\n",
       "    }\n",
       "</style>\n",
       "<table border=\"1\" class=\"dataframe\">\n",
       "  <thead>\n",
       "    <tr style=\"text-align: right;\">\n",
       "      <th></th>\n",
       "      <th>City</th>\n",
       "      <th>Population</th>\n",
       "      <th>Population_Timestamp</th>\n",
       "    </tr>\n",
       "  </thead>\n",
       "  <tbody>\n",
       "    <tr>\n",
       "      <th>0</th>\n",
       "      <td>Berlin</td>\n",
       "      <td>3878100</td>\n",
       "      <td>2024.10.09</td>\n",
       "    </tr>\n",
       "    <tr>\n",
       "      <th>1</th>\n",
       "      <td>Hamburg</td>\n",
       "      <td>1964021</td>\n",
       "      <td>2024.10.09</td>\n",
       "    </tr>\n",
       "    <tr>\n",
       "      <th>2</th>\n",
       "      <td>Munich</td>\n",
       "      <td>1510378</td>\n",
       "      <td>2024.10.09</td>\n",
       "    </tr>\n",
       "    <tr>\n",
       "      <th>3</th>\n",
       "      <td>Cologne</td>\n",
       "      <td>1087353</td>\n",
       "      <td>2024.10.09</td>\n",
       "    </tr>\n",
       "    <tr>\n",
       "      <th>4</th>\n",
       "      <td>Amsterdam</td>\n",
       "      <td>921402</td>\n",
       "      <td>2024.10.09</td>\n",
       "    </tr>\n",
       "    <tr>\n",
       "      <th>5</th>\n",
       "      <td>Paris</td>\n",
       "      <td>2102650</td>\n",
       "      <td>2024.10.09</td>\n",
       "    </tr>\n",
       "  </tbody>\n",
       "</table>\n",
       "</div>"
      ],
      "text/plain": [
       "        City  Population Population_Timestamp\n",
       "0     Berlin     3878100           2024.10.09\n",
       "1    Hamburg     1964021           2024.10.09\n",
       "2     Munich     1510378           2024.10.09\n",
       "3    Cologne     1087353           2024.10.09\n",
       "4  Amsterdam      921402           2024.10.09\n",
       "5      Paris     2102650           2024.10.09"
      ]
     },
     "execution_count": 110,
     "metadata": {},
     "output_type": "execute_result"
    }
   ],
   "source": [
    "population_data"
   ]
  },
  {
   "cell_type": "code",
   "execution_count": 115,
   "id": "02736af4-28c7-43e4-9de4-e0c1d518a818",
   "metadata": {},
   "outputs": [
    {
     "data": {
      "text/html": [
       "<div>\n",
       "<style scoped>\n",
       "    .dataframe tbody tr th:only-of-type {\n",
       "        vertical-align: middle;\n",
       "    }\n",
       "\n",
       "    .dataframe tbody tr th {\n",
       "        vertical-align: top;\n",
       "    }\n",
       "\n",
       "    .dataframe thead th {\n",
       "        text-align: right;\n",
       "    }\n",
       "</style>\n",
       "<table border=\"1\" class=\"dataframe\">\n",
       "  <thead>\n",
       "    <tr style=\"text-align: right;\">\n",
       "      <th></th>\n",
       "      <th>City</th>\n",
       "      <th>Population</th>\n",
       "      <th>Timestamp_Population</th>\n",
       "    </tr>\n",
       "  </thead>\n",
       "  <tbody>\n",
       "    <tr>\n",
       "      <th>0</th>\n",
       "      <td>Berlin</td>\n",
       "      <td>3878100</td>\n",
       "      <td>2024-09-10</td>\n",
       "    </tr>\n",
       "    <tr>\n",
       "      <th>1</th>\n",
       "      <td>Hamburg</td>\n",
       "      <td>1964021</td>\n",
       "      <td>2024-09-10</td>\n",
       "    </tr>\n",
       "    <tr>\n",
       "      <th>2</th>\n",
       "      <td>Munich</td>\n",
       "      <td>1510378</td>\n",
       "      <td>2024-09-10</td>\n",
       "    </tr>\n",
       "    <tr>\n",
       "      <th>3</th>\n",
       "      <td>Cologne</td>\n",
       "      <td>1087353</td>\n",
       "      <td>2024-09-10</td>\n",
       "    </tr>\n",
       "    <tr>\n",
       "      <th>4</th>\n",
       "      <td>Amsterdam</td>\n",
       "      <td>921402</td>\n",
       "      <td>2024-09-10</td>\n",
       "    </tr>\n",
       "    <tr>\n",
       "      <th>5</th>\n",
       "      <td>Paris</td>\n",
       "      <td>2102650</td>\n",
       "      <td>2024-09-10</td>\n",
       "    </tr>\n",
       "  </tbody>\n",
       "</table>\n",
       "</div>"
      ],
      "text/plain": [
       "        City  Population Timestamp_Population\n",
       "0     Berlin     3878100           2024-09-10\n",
       "1    Hamburg     1964021           2024-09-10\n",
       "2     Munich     1510378           2024-09-10\n",
       "3    Cologne     1087353           2024-09-10\n",
       "4  Amsterdam      921402           2024-09-10\n",
       "5      Paris     2102650           2024-09-10"
      ]
     },
     "execution_count": 115,
     "metadata": {},
     "output_type": "execute_result"
    }
   ],
   "source": [
    "# call the populations function\n",
    "cities = [\"Berlin\", \"Hamburg\", \"Munich\",\"Cologne\", \"Amsterdam\", \"Paris\"]\n",
    "\n",
    "population_df = populations_dataframe(cities)\n",
    "population_df"
   ]
  },
  {
   "cell_type": "markdown",
   "id": "397fd0bf-badf-4c8b-affc-0f842452d554",
   "metadata": {},
   "source": [
    "### Pushing the cities and population information to SQL "
   ]
  },
  {
   "cell_type": "code",
   "execution_count": 88,
   "id": "a3f9a4c7-f4bf-4d9d-afc4-0cf42ad33f60",
   "metadata": {},
   "outputs": [],
   "source": [
    "schema = \"sql_workshop\"\n",
    "host = \"127.0.0.1\"\n",
    "user = \"root\"\n",
    "password = \"forgot1234\"\n",
    "port = 3306\n",
    "\n",
    "connection_string = f'mysql+pymysql://{user}:{password}@{host}:{port}/{schema}'"
   ]
  },
  {
   "cell_type": "code",
   "execution_count": 48,
   "id": "598a432e-268a-49d0-9fd0-d46805e8e17a",
   "metadata": {},
   "outputs": [],
   "source": [
    "schema = \"sql_workshop\"\n",
    "host = \"34.77.20.25\"\n",
    "user = \"root\"\n",
    "password = \"sushma25121998\"\n",
    "port = 3306\n",
    "connection_string = f'mysql+pymysql://{user}:{password}@{host}:{port}/{schema}'"
   ]
  },
  {
   "cell_type": "code",
   "execution_count": 50,
   "id": "6babfddb-365e-4660-a998-d0776285b744",
   "metadata": {},
   "outputs": [
    {
     "data": {
      "text/plain": [
       "6"
      ]
     },
     "execution_count": 50,
     "metadata": {},
     "output_type": "execute_result"
    }
   ],
   "source": [
    "cities_df.to_sql('cities',\n",
    "                  if_exists='append',\n",
    "                  con=connection_string,\n",
    "                  index=False)"
   ]
  },
  {
   "cell_type": "code",
   "execution_count": 99,
   "id": "058fea82-c28e-4454-b107-00b17d38b788",
   "metadata": {},
   "outputs": [
    {
     "data": {
      "text/plain": [
       "6"
      ]
     },
     "execution_count": 99,
     "metadata": {},
     "output_type": "execute_result"
    }
   ],
   "source": [
    "population_df.to_sql('population',\n",
    "                  if_exists='append',\n",
    "                  con=connection_string,\n",
    "                  index=False)"
   ]
  },
  {
   "cell_type": "code",
   "execution_count": null,
   "id": "6f59afa3-d20e-40ec-92c9-6b294d930dcf",
   "metadata": {},
   "outputs": [],
   "source": []
  },
  {
   "cell_type": "code",
   "execution_count": null,
   "id": "dcf25603-d219-435d-a181-be7091af6b88",
   "metadata": {},
   "outputs": [],
   "source": []
  },
  {
   "cell_type": "code",
   "execution_count": null,
   "id": "c6c2e2da-687b-41bd-92e0-49ff9663259e",
   "metadata": {},
   "outputs": [],
   "source": []
  },
  {
   "cell_type": "code",
   "execution_count": null,
   "id": "f44046e6-a0c8-4b12-8fa7-4d63ea7177df",
   "metadata": {},
   "outputs": [],
   "source": []
  },
  {
   "cell_type": "code",
   "execution_count": null,
   "id": "f83880fb-539a-48c1-bc22-51e537da49f7",
   "metadata": {},
   "outputs": [],
   "source": []
  },
  {
   "cell_type": "code",
   "execution_count": null,
   "id": "05ecaf63-d9af-4688-8020-9e0ac8c30945",
   "metadata": {},
   "outputs": [],
   "source": []
  },
  {
   "cell_type": "code",
   "execution_count": null,
   "id": "d87aab5d-a840-40ad-9446-3088547ed159",
   "metadata": {},
   "outputs": [],
   "source": []
  },
  {
   "cell_type": "code",
   "execution_count": null,
   "id": "6d9baa1f-bfb9-42ea-992f-bdef1e44e5c1",
   "metadata": {},
   "outputs": [],
   "source": []
  },
  {
   "cell_type": "code",
   "execution_count": null,
   "id": "d5cbd2ed-b127-41cd-ae64-b0e4977ab742",
   "metadata": {},
   "outputs": [],
   "source": []
  },
  {
   "cell_type": "code",
   "execution_count": null,
   "id": "c4af24d3-2927-46c1-8656-9618c0549f33",
   "metadata": {},
   "outputs": [],
   "source": []
  },
  {
   "cell_type": "code",
   "execution_count": null,
   "id": "8d7b9d8f-bd42-4554-a2eb-f073c03cced5",
   "metadata": {},
   "outputs": [],
   "source": []
  }
 ],
 "metadata": {
  "kernelspec": {
   "display_name": "Python 3 (ipykernel)",
   "language": "python",
   "name": "python3"
  },
  "language_info": {
   "codemirror_mode": {
    "name": "ipython",
    "version": 3
   },
   "file_extension": ".py",
   "mimetype": "text/x-python",
   "name": "python",
   "nbconvert_exporter": "python",
   "pygments_lexer": "ipython3",
   "version": "3.12.4"
  }
 },
 "nbformat": 4,
 "nbformat_minor": 5
}
