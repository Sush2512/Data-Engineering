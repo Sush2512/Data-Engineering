{
 "cells": [
  {
   "cell_type": "code",
   "execution_count": 2,
   "id": "51b152c6-74d6-43ce-9a5e-e95f79b64d3a",
   "metadata": {},
   "outputs": [],
   "source": [
    "import pandas as pd\n",
    "import requests\n",
    "from pytz import timezone\n",
    "from datetime import datetime\n",
    "import sqlalchemy"
   ]
  },
  {
   "cell_type": "code",
   "execution_count": 10,
   "id": "67092ad3-89aa-4a31-a6f7-abe07067001f",
   "metadata": {},
   "outputs": [],
   "source": [
    "schema = \"sql_workshop\"\n",
    "host = \"34.77.20.25\"\n",
    "user = \"root\"\n",
    "password = \"sushma25121998\"\n",
    "port = 3306\n",
    "\n",
    "connection_string = f'mysql+pymysql://{user}:{password}@{host}:{port}/{schema}'"
   ]
  },
  {
   "cell_type": "markdown",
   "id": "2f36cad5-c026-4d8e-a400-e1b607f071ed",
   "metadata": {},
   "source": [
    "## Reading cities table from sql"
   ]
  },
  {
   "cell_type": "code",
   "execution_count": 12,
   "id": "2625edd3-38a5-43ba-bb83-c4a5ab917ca7",
   "metadata": {},
   "outputs": [
    {
     "data": {
      "text/html": [
       "<div>\n",
       "<style scoped>\n",
       "    .dataframe tbody tr th:only-of-type {\n",
       "        vertical-align: middle;\n",
       "    }\n",
       "\n",
       "    .dataframe tbody tr th {\n",
       "        vertical-align: top;\n",
       "    }\n",
       "\n",
       "    .dataframe thead th {\n",
       "        text-align: right;\n",
       "    }\n",
       "</style>\n",
       "<table border=\"1\" class=\"dataframe\">\n",
       "  <thead>\n",
       "    <tr style=\"text-align: right;\">\n",
       "      <th></th>\n",
       "      <th>city_id</th>\n",
       "      <th>city</th>\n",
       "      <th>country</th>\n",
       "      <th>latitude</th>\n",
       "      <th>longitude</th>\n",
       "    </tr>\n",
       "  </thead>\n",
       "  <tbody>\n",
       "  </tbody>\n",
       "</table>\n",
       "</div>"
      ],
      "text/plain": [
       "Empty DataFrame\n",
       "Columns: [city_id, city, country, latitude, longitude]\n",
       "Index: []"
      ]
     },
     "execution_count": 12,
     "metadata": {},
     "output_type": "execute_result"
    }
   ],
   "source": [
    "cities_df = pd.read_sql(\"cities\", con=connection_string)\n",
    "cities_df"
   ]
  },
  {
   "cell_type": "code",
   "execution_count": 21,
   "id": "962edf93-6689-490a-88d4-039325e09254",
   "metadata": {},
   "outputs": [],
   "source": [
    "berlin_timezone = timezone('Europe/Berlin')\n",
    "API_key = 'ec3f32171441d6fdef6cab30f523db6b'\n",
    "weather_items = []"
   ]
  },
  {
   "cell_type": "code",
   "execution_count": 31,
   "id": "9936bf0f-de8c-4ad7-b658-d5a1270fdc5c",
   "metadata": {},
   "outputs": [
    {
     "name": "stdout",
     "output_type": "stream",
     "text": [
      "Berlin\n",
      "Hamburg\n",
      "Munich\n",
      "Cologne\n",
      "Amsterdam\n",
      "Paris\n"
     ]
    }
   ],
   "source": [
    "# For loop over the \"City_name\" column in the \"cities_df\"\n",
    "\n",
    "for i in cities_df[\"city\"]:\n",
    "    print(i)"
   ]
  },
  {
   "cell_type": "code",
   "execution_count": 35,
   "id": "852e4bf6-e835-4342-8271-2aa8e07813e8",
   "metadata": {},
   "outputs": [
    {
     "data": {
      "text/plain": [
       "2"
      ]
     },
     "execution_count": 35,
     "metadata": {},
     "output_type": "execute_result"
    }
   ],
   "source": [
    "# Extracting the \"City_id\" from the cities table. This will be implemented in the for loop.\n",
    "cities_df.loc[cities_df[\"city\"] == \"Hamburg\", \"city_id\"].values[0]"
   ]
  },
  {
   "cell_type": "code",
   "execution_count": 37,
   "id": "b156fcea-f3ff-4670-94fb-6c2e7ba74762",
   "metadata": {},
   "outputs": [],
   "source": [
    "for city in cities_df[\"city\"]:\n",
    "    url = (f\"http://api.openweathermap.org/data/2.5/forecast?q={city}&appid={API_key}&units=metric\")\n",
    "    response = requests.get(url)\n",
    "    json = response.json()\n",
    "    # As we are now using the data from our relational database\n",
    "    # the city should reflect the city_id and not the city name\n",
    "    city_id = cities_df.loc[cities_df[\"city\"] == city, \"city_id\"].values[0]\n",
    "\n",
    "    retrieval_time = datetime.now(berlin_timezone).strftime(\"%Y-%m-%d %H:%M:%S\")\n",
    "\n",
    "    for item in json[\"list\"]:\n",
    "        weather_item = {\n",
    "            \"city_id\": city_id,\n",
    "            \"forecast_time\": item.get(\"dt_txt\", None),\n",
    "            \"outlook\": item[\"weather\"][0].get(\"description\", None),\n",
    "            \"temperature\": item[\"main\"].get(\"temp\", None),\n",
    "            \"feels_like\": item[\"main\"].get(\"feels_like\", None),\n",
    "            \"rain_in_last_3h\": item.get(\"rain\", {}).get(\"3h\", 0),\n",
    "            \"wind_speed\": item[\"wind\"].get(\"speed\", None),\n",
    "            \"rain_prob\": item.get(\"pop\", None),\n",
    "            \"data_retrieved_at\": retrieval_time\n",
    "        }\n",
    "\n",
    "        weather_items.append(weather_item)"
   ]
  },
  {
   "cell_type": "code",
   "execution_count": 39,
   "id": "395034ad-f71b-4f2a-8941-3bdcbdd2b4f0",
   "metadata": {},
   "outputs": [],
   "source": [
    "weather_df = pd.DataFrame(weather_items)"
   ]
  },
  {
   "cell_type": "code",
   "execution_count": 41,
   "id": "c5e52049-b0cc-4ee6-b233-590e902e35d3",
   "metadata": {},
   "outputs": [
    {
     "data": {
      "text/html": [
       "<div>\n",
       "<style scoped>\n",
       "    .dataframe tbody tr th:only-of-type {\n",
       "        vertical-align: middle;\n",
       "    }\n",
       "\n",
       "    .dataframe tbody tr th {\n",
       "        vertical-align: top;\n",
       "    }\n",
       "\n",
       "    .dataframe thead th {\n",
       "        text-align: right;\n",
       "    }\n",
       "</style>\n",
       "<table border=\"1\" class=\"dataframe\">\n",
       "  <thead>\n",
       "    <tr style=\"text-align: right;\">\n",
       "      <th></th>\n",
       "      <th>city_id</th>\n",
       "      <th>forecast_time</th>\n",
       "      <th>outlook</th>\n",
       "      <th>temperature</th>\n",
       "      <th>feels_like</th>\n",
       "      <th>rain_in_last_3h</th>\n",
       "      <th>wind_speed</th>\n",
       "      <th>rain_prob</th>\n",
       "      <th>data_retrieved_at</th>\n",
       "    </tr>\n",
       "  </thead>\n",
       "  <tbody>\n",
       "    <tr>\n",
       "      <th>0</th>\n",
       "      <td>1</td>\n",
       "      <td>2024-09-10 15:00:00</td>\n",
       "      <td>broken clouds</td>\n",
       "      <td>19.54</td>\n",
       "      <td>18.86</td>\n",
       "      <td>0.0</td>\n",
       "      <td>5.66</td>\n",
       "      <td>0.0</td>\n",
       "      <td>2024-09-10 14:19:50</td>\n",
       "    </tr>\n",
       "    <tr>\n",
       "      <th>1</th>\n",
       "      <td>1</td>\n",
       "      <td>2024-09-10 18:00:00</td>\n",
       "      <td>broken clouds</td>\n",
       "      <td>18.31</td>\n",
       "      <td>17.68</td>\n",
       "      <td>0.0</td>\n",
       "      <td>3.80</td>\n",
       "      <td>0.0</td>\n",
       "      <td>2024-09-10 14:19:50</td>\n",
       "    </tr>\n",
       "    <tr>\n",
       "      <th>2</th>\n",
       "      <td>1</td>\n",
       "      <td>2024-09-10 21:00:00</td>\n",
       "      <td>broken clouds</td>\n",
       "      <td>17.03</td>\n",
       "      <td>16.43</td>\n",
       "      <td>0.0</td>\n",
       "      <td>4.25</td>\n",
       "      <td>0.0</td>\n",
       "      <td>2024-09-10 14:19:50</td>\n",
       "    </tr>\n",
       "    <tr>\n",
       "      <th>3</th>\n",
       "      <td>1</td>\n",
       "      <td>2024-09-11 00:00:00</td>\n",
       "      <td>overcast clouds</td>\n",
       "      <td>17.06</td>\n",
       "      <td>16.39</td>\n",
       "      <td>0.0</td>\n",
       "      <td>4.67</td>\n",
       "      <td>0.0</td>\n",
       "      <td>2024-09-10 14:19:50</td>\n",
       "    </tr>\n",
       "    <tr>\n",
       "      <th>4</th>\n",
       "      <td>1</td>\n",
       "      <td>2024-09-11 03:00:00</td>\n",
       "      <td>overcast clouds</td>\n",
       "      <td>15.71</td>\n",
       "      <td>15.14</td>\n",
       "      <td>0.0</td>\n",
       "      <td>5.66</td>\n",
       "      <td>0.0</td>\n",
       "      <td>2024-09-10 14:19:50</td>\n",
       "    </tr>\n",
       "    <tr>\n",
       "      <th>...</th>\n",
       "      <td>...</td>\n",
       "      <td>...</td>\n",
       "      <td>...</td>\n",
       "      <td>...</td>\n",
       "      <td>...</td>\n",
       "      <td>...</td>\n",
       "      <td>...</td>\n",
       "      <td>...</td>\n",
       "      <td>...</td>\n",
       "    </tr>\n",
       "    <tr>\n",
       "      <th>235</th>\n",
       "      <td>6</td>\n",
       "      <td>2024-09-15 00:00:00</td>\n",
       "      <td>broken clouds</td>\n",
       "      <td>13.22</td>\n",
       "      <td>12.06</td>\n",
       "      <td>0.0</td>\n",
       "      <td>1.94</td>\n",
       "      <td>0.0</td>\n",
       "      <td>2024-09-10 14:19:51</td>\n",
       "    </tr>\n",
       "    <tr>\n",
       "      <th>236</th>\n",
       "      <td>6</td>\n",
       "      <td>2024-09-15 03:00:00</td>\n",
       "      <td>overcast clouds</td>\n",
       "      <td>12.16</td>\n",
       "      <td>11.08</td>\n",
       "      <td>0.0</td>\n",
       "      <td>1.38</td>\n",
       "      <td>0.0</td>\n",
       "      <td>2024-09-10 14:19:51</td>\n",
       "    </tr>\n",
       "    <tr>\n",
       "      <th>237</th>\n",
       "      <td>6</td>\n",
       "      <td>2024-09-15 06:00:00</td>\n",
       "      <td>overcast clouds</td>\n",
       "      <td>11.54</td>\n",
       "      <td>10.37</td>\n",
       "      <td>0.0</td>\n",
       "      <td>1.30</td>\n",
       "      <td>0.0</td>\n",
       "      <td>2024-09-10 14:19:51</td>\n",
       "    </tr>\n",
       "    <tr>\n",
       "      <th>238</th>\n",
       "      <td>6</td>\n",
       "      <td>2024-09-15 09:00:00</td>\n",
       "      <td>clear sky</td>\n",
       "      <td>15.35</td>\n",
       "      <td>14.17</td>\n",
       "      <td>0.0</td>\n",
       "      <td>2.41</td>\n",
       "      <td>0.0</td>\n",
       "      <td>2024-09-10 14:19:51</td>\n",
       "    </tr>\n",
       "    <tr>\n",
       "      <th>239</th>\n",
       "      <td>6</td>\n",
       "      <td>2024-09-15 12:00:00</td>\n",
       "      <td>clear sky</td>\n",
       "      <td>19.45</td>\n",
       "      <td>18.34</td>\n",
       "      <td>0.0</td>\n",
       "      <td>2.74</td>\n",
       "      <td>0.0</td>\n",
       "      <td>2024-09-10 14:19:51</td>\n",
       "    </tr>\n",
       "  </tbody>\n",
       "</table>\n",
       "<p>240 rows × 9 columns</p>\n",
       "</div>"
      ],
      "text/plain": [
       "     city_id        forecast_time          outlook  temperature  feels_like  \\\n",
       "0          1  2024-09-10 15:00:00    broken clouds        19.54       18.86   \n",
       "1          1  2024-09-10 18:00:00    broken clouds        18.31       17.68   \n",
       "2          1  2024-09-10 21:00:00    broken clouds        17.03       16.43   \n",
       "3          1  2024-09-11 00:00:00  overcast clouds        17.06       16.39   \n",
       "4          1  2024-09-11 03:00:00  overcast clouds        15.71       15.14   \n",
       "..       ...                  ...              ...          ...         ...   \n",
       "235        6  2024-09-15 00:00:00    broken clouds        13.22       12.06   \n",
       "236        6  2024-09-15 03:00:00  overcast clouds        12.16       11.08   \n",
       "237        6  2024-09-15 06:00:00  overcast clouds        11.54       10.37   \n",
       "238        6  2024-09-15 09:00:00        clear sky        15.35       14.17   \n",
       "239        6  2024-09-15 12:00:00        clear sky        19.45       18.34   \n",
       "\n",
       "     rain_in_last_3h  wind_speed  rain_prob    data_retrieved_at  \n",
       "0                0.0        5.66        0.0  2024-09-10 14:19:50  \n",
       "1                0.0        3.80        0.0  2024-09-10 14:19:50  \n",
       "2                0.0        4.25        0.0  2024-09-10 14:19:50  \n",
       "3                0.0        4.67        0.0  2024-09-10 14:19:50  \n",
       "4                0.0        5.66        0.0  2024-09-10 14:19:50  \n",
       "..               ...         ...        ...                  ...  \n",
       "235              0.0        1.94        0.0  2024-09-10 14:19:51  \n",
       "236              0.0        1.38        0.0  2024-09-10 14:19:51  \n",
       "237              0.0        1.30        0.0  2024-09-10 14:19:51  \n",
       "238              0.0        2.41        0.0  2024-09-10 14:19:51  \n",
       "239              0.0        2.74        0.0  2024-09-10 14:19:51  \n",
       "\n",
       "[240 rows x 9 columns]"
      ]
     },
     "execution_count": 41,
     "metadata": {},
     "output_type": "execute_result"
    }
   ],
   "source": [
    "weather_df"
   ]
  },
  {
   "cell_type": "code",
   "execution_count": 43,
   "id": "88523110-a8d3-4b95-a118-a51dd3ed55f3",
   "metadata": {},
   "outputs": [
    {
     "name": "stdout",
     "output_type": "stream",
     "text": [
      "<class 'pandas.core.frame.DataFrame'>\n",
      "RangeIndex: 240 entries, 0 to 239\n",
      "Data columns (total 9 columns):\n",
      " #   Column             Non-Null Count  Dtype  \n",
      "---  ------             --------------  -----  \n",
      " 0   city_id            240 non-null    int64  \n",
      " 1   forecast_time      240 non-null    object \n",
      " 2   outlook            240 non-null    object \n",
      " 3   temperature        240 non-null    float64\n",
      " 4   feels_like         240 non-null    float64\n",
      " 5   rain_in_last_3h    240 non-null    float64\n",
      " 6   wind_speed         240 non-null    float64\n",
      " 7   rain_prob          240 non-null    float64\n",
      " 8   data_retrieved_at  240 non-null    object \n",
      "dtypes: float64(5), int64(1), object(3)\n",
      "memory usage: 17.0+ KB\n"
     ]
    }
   ],
   "source": [
    "weather_df.info()"
   ]
  },
  {
   "cell_type": "code",
   "execution_count": 45,
   "id": "6c38ed26-faf0-4748-8b95-f03ae7bcdb03",
   "metadata": {},
   "outputs": [],
   "source": [
    "weather_df[\"forecast_time\"] = pd.to_datetime(weather_df[\"forecast_time\"])\n",
    "weather_df[\"data_retrieved_at\"] = pd.to_datetime(weather_df[\"data_retrieved_at\"])"
   ]
  },
  {
   "cell_type": "code",
   "execution_count": 47,
   "id": "fc0f8dd5-cedd-4a64-ac6b-131d79f667bc",
   "metadata": {},
   "outputs": [
    {
     "name": "stdout",
     "output_type": "stream",
     "text": [
      "<class 'pandas.core.frame.DataFrame'>\n",
      "RangeIndex: 240 entries, 0 to 239\n",
      "Data columns (total 9 columns):\n",
      " #   Column             Non-Null Count  Dtype         \n",
      "---  ------             --------------  -----         \n",
      " 0   city_id            240 non-null    int64         \n",
      " 1   forecast_time      240 non-null    datetime64[ns]\n",
      " 2   outlook            240 non-null    object        \n",
      " 3   temperature        240 non-null    float64       \n",
      " 4   feels_like         240 non-null    float64       \n",
      " 5   rain_in_last_3h    240 non-null    float64       \n",
      " 6   wind_speed         240 non-null    float64       \n",
      " 7   rain_prob          240 non-null    float64       \n",
      " 8   data_retrieved_at  240 non-null    datetime64[ns]\n",
      "dtypes: datetime64[ns](2), float64(5), int64(1), object(1)\n",
      "memory usage: 17.0+ KB\n"
     ]
    }
   ],
   "source": [
    "weather_df.info()"
   ]
  },
  {
   "cell_type": "code",
   "execution_count": 60,
   "id": "e46ee405-50f8-4740-8228-2377e1102d59",
   "metadata": {},
   "outputs": [
    {
     "data": {
      "text/plain": [
       "240"
      ]
     },
     "execution_count": 60,
     "metadata": {},
     "output_type": "execute_result"
    }
   ],
   "source": [
    "weather_df.to_sql('weather',\n",
    "                  if_exists='append',\n",
    "                  con=connection_string,\n",
    "                  index=False)"
   ]
  },
  {
   "cell_type": "code",
   "execution_count": null,
   "id": "99d0e739-1295-4e62-988f-3cc086373d27",
   "metadata": {},
   "outputs": [],
   "source": []
  },
  {
   "cell_type": "code",
   "execution_count": null,
   "id": "1ec93857-63c9-4216-a2ff-170f78b2f033",
   "metadata": {},
   "outputs": [],
   "source": []
  },
  {
   "cell_type": "code",
   "execution_count": null,
   "id": "1aef163d-caec-4883-bba1-eb692674c458",
   "metadata": {},
   "outputs": [],
   "source": []
  },
  {
   "cell_type": "code",
   "execution_count": null,
   "id": "9aaa034f-1772-420e-99df-efd6f2c7c741",
   "metadata": {},
   "outputs": [],
   "source": []
  },
  {
   "cell_type": "code",
   "execution_count": null,
   "id": "f98b0467-42bf-454b-8618-de23f451b763",
   "metadata": {},
   "outputs": [],
   "source": []
  },
  {
   "cell_type": "code",
   "execution_count": null,
   "id": "ee9426cc-f9f4-4b47-9317-9b4b1519e8ff",
   "metadata": {},
   "outputs": [],
   "source": []
  },
  {
   "cell_type": "code",
   "execution_count": null,
   "id": "1fedea2b-3162-43e7-90e9-f685ba90f917",
   "metadata": {},
   "outputs": [],
   "source": []
  },
  {
   "cell_type": "code",
   "execution_count": null,
   "id": "c37337da-db04-427c-b090-2d91d04c351d",
   "metadata": {},
   "outputs": [],
   "source": []
  },
  {
   "cell_type": "code",
   "execution_count": null,
   "id": "648ff50d-e095-449e-bf1d-ffa665664dd7",
   "metadata": {},
   "outputs": [],
   "source": []
  },
  {
   "cell_type": "code",
   "execution_count": null,
   "id": "bc496bd8-bb11-49a3-b37e-e4fa4e449431",
   "metadata": {},
   "outputs": [],
   "source": []
  },
  {
   "cell_type": "code",
   "execution_count": null,
   "id": "148eac39-ccab-4de5-bfe6-74d1c93a6a03",
   "metadata": {},
   "outputs": [],
   "source": []
  },
  {
   "cell_type": "code",
   "execution_count": null,
   "id": "06ea1a8e-48a5-4783-aebe-54567722bde1",
   "metadata": {},
   "outputs": [],
   "source": []
  },
  {
   "cell_type": "code",
   "execution_count": null,
   "id": "cb651000-f17f-4176-bbf7-92a249854fdb",
   "metadata": {},
   "outputs": [],
   "source": []
  }
 ],
 "metadata": {
  "kernelspec": {
   "display_name": "Python 3 (ipykernel)",
   "language": "python",
   "name": "python3"
  },
  "language_info": {
   "codemirror_mode": {
    "name": "ipython",
    "version": 3
   },
   "file_extension": ".py",
   "mimetype": "text/x-python",
   "name": "python",
   "nbconvert_exporter": "python",
   "pygments_lexer": "ipython3",
   "version": "3.12.4"
  }
 },
 "nbformat": 4,
 "nbformat_minor": 5
}
